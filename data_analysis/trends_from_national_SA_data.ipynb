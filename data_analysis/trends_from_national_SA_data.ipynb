{
 "cells": [
  {
   "cell_type": "markdown",
   "metadata": {},
   "source": [
    "# Trends from Annual U.S. Sexual Assault Data\n",
    "*  This dataset contains sexual assault data compiled from the Yearly Crime Victimization Series. This data is from the Bureau of Justice Statistics (BJS); they provide official estimates of criminal victimizations reported and not reported to police in the U.S. from BJS's National Crime Victimization Survey. https://www.bjs.gov/index.cfm?ty=tp&tid=317"
   ]
  },
  {
   "cell_type": "code",
   "execution_count": 1,
   "metadata": {},
   "outputs": [],
   "source": [
    "import pandas as pd\n",
    "import matplotlib.pyplot as plt\n",
    "import seaborn as sns\n",
    "import datetime"
   ]
  },
  {
   "cell_type": "code",
   "execution_count": 2,
   "metadata": {},
   "outputs": [],
   "source": [
    "cases_by_crime_df= pd.read_csv('../data/clean/Annual_Num_Cases_by_Crime_13_to_19.csv')"
   ]
  },
  {
   "cell_type": "code",
   "execution_count": 3,
   "metadata": {},
   "outputs": [
    {
     "data": {
      "text/html": [
       "<div>\n",
       "<style scoped>\n",
       "    .dataframe tbody tr th:only-of-type {\n",
       "        vertical-align: middle;\n",
       "    }\n",
       "\n",
       "    .dataframe tbody tr th {\n",
       "        vertical-align: top;\n",
       "    }\n",
       "\n",
       "    .dataframe thead th {\n",
       "        text-align: right;\n",
       "    }\n",
       "</style>\n",
       "<table border=\"1\" class=\"dataframe\">\n",
       "  <thead>\n",
       "    <tr style=\"text-align: right;\">\n",
       "      <th></th>\n",
       "      <th>Type of Crime</th>\n",
       "      <th>2013</th>\n",
       "      <th>2014</th>\n",
       "      <th>2015</th>\n",
       "      <th>2016</th>\n",
       "      <th>2017</th>\n",
       "      <th>2018</th>\n",
       "      <th>2019</th>\n",
       "    </tr>\n",
       "  </thead>\n",
       "  <tbody>\n",
       "    <tr>\n",
       "      <th>0</th>\n",
       "      <td>Total Violent crime</td>\n",
       "      <td>6,126,420</td>\n",
       "      <td>5,359,570</td>\n",
       "      <td>5,006,620</td>\n",
       "      <td>5,353,820</td>\n",
       "      <td>5,612,670</td>\n",
       "      <td>6,385,520</td>\n",
       "      <td>5,813,410</td>\n",
       "    </tr>\n",
       "    <tr>\n",
       "      <th>1</th>\n",
       "      <td>Rape/sexual assault</td>\n",
       "      <td>300,170</td>\n",
       "      <td>284,350</td>\n",
       "      <td>431,840</td>\n",
       "      <td>298,410</td>\n",
       "      <td>393,980</td>\n",
       "      <td>734,630</td>\n",
       "      <td>459,310</td>\n",
       "    </tr>\n",
       "    <tr>\n",
       "      <th>2</th>\n",
       "      <td>Robbery</td>\n",
       "      <td>645,650</td>\n",
       "      <td>664,210</td>\n",
       "      <td>578,580</td>\n",
       "      <td>458,810</td>\n",
       "      <td>613,840</td>\n",
       "      <td>573,100</td>\n",
       "      <td>534,420</td>\n",
       "    </tr>\n",
       "    <tr>\n",
       "      <th>3</th>\n",
       "      <td>Total Assault</td>\n",
       "      <td>5,180,610</td>\n",
       "      <td>4,411,010</td>\n",
       "      <td>3,996,200</td>\n",
       "      <td>4,596,600</td>\n",
       "      <td>4,604,850</td>\n",
       "      <td>5,077,790</td>\n",
       "      <td>4,819,680</td>\n",
       "    </tr>\n",
       "    <tr>\n",
       "      <th>4</th>\n",
       "      <td>Aggravated assault</td>\n",
       "      <td>994,220</td>\n",
       "      <td>1,092,090</td>\n",
       "      <td>816,760</td>\n",
       "      <td>1,040,580</td>\n",
       "      <td>993,170</td>\n",
       "      <td>1,058,040</td>\n",
       "      <td>1,019,490</td>\n",
       "    </tr>\n",
       "    <tr>\n",
       "      <th>5</th>\n",
       "      <td>Simple assault</td>\n",
       "      <td>4,186,390</td>\n",
       "      <td>3,318,920</td>\n",
       "      <td>3,179,440</td>\n",
       "      <td>3,556,020</td>\n",
       "      <td>3,611,680</td>\n",
       "      <td>4,019,750</td>\n",
       "      <td>3,800,190</td>\n",
       "    </tr>\n",
       "    <tr>\n",
       "      <th>6</th>\n",
       "      <td>Violent crime excluding simple assault/d</td>\n",
       "      <td>1,940,030</td>\n",
       "      <td>2,040,650</td>\n",
       "      <td>1,827,170</td>\n",
       "      <td>1,797,790</td>\n",
       "      <td>2,000,990</td>\n",
       "      <td>2,365,770</td>\n",
       "      <td>2,013,220</td>\n",
       "    </tr>\n",
       "  </tbody>\n",
       "</table>\n",
       "</div>"
      ],
      "text/plain": [
       "                              Type of Crime       2013       2014       2015  \\\n",
       "0                       Total Violent crime  6,126,420  5,359,570  5,006,620   \n",
       "1                       Rape/sexual assault    300,170    284,350    431,840   \n",
       "2                                   Robbery    645,650    664,210    578,580   \n",
       "3                             Total Assault  5,180,610  4,411,010  3,996,200   \n",
       "4                        Aggravated assault    994,220  1,092,090    816,760   \n",
       "5                            Simple assault  4,186,390  3,318,920  3,179,440   \n",
       "6  Violent crime excluding simple assault/d  1,940,030  2,040,650  1,827,170   \n",
       "\n",
       "        2016       2017       2018       2019  \n",
       "0  5,353,820  5,612,670  6,385,520  5,813,410  \n",
       "1    298,410    393,980    734,630    459,310  \n",
       "2    458,810    613,840    573,100    534,420  \n",
       "3  4,596,600  4,604,850  5,077,790  4,819,680  \n",
       "4  1,040,580    993,170  1,058,040  1,019,490  \n",
       "5  3,556,020  3,611,680  4,019,750  3,800,190  \n",
       "6  1,797,790  2,000,990  2,365,770  2,013,220  "
      ]
     },
     "execution_count": 3,
     "metadata": {},
     "output_type": "execute_result"
    }
   ],
   "source": [
    "cases_by_crime_df"
   ]
  },
  {
   "cell_type": "markdown",
   "metadata": {},
   "source": [
    "### How has the number of rape/sexual assault victims changed since 2013?\n",
    "1. Create a new dataframe from cases_by_crime_df by using a dictionary\n",
    "2. Drop the first row \n",
    "3. Set year as the index\n",
    "4. Convert values in numbers column into numerical values\n",
    "5. Drop extra 'index' and 'year' column\n",
    "6. Rename column to victims_count\n",
    "7. Create a line plot "
   ]
  },
  {
   "cell_type": "code",
   "execution_count": 4,
   "metadata": {},
   "outputs": [
    {
     "data": {
      "text/html": [
       "<div>\n",
       "<style scoped>\n",
       "    .dataframe tbody tr th:only-of-type {\n",
       "        vertical-align: middle;\n",
       "    }\n",
       "\n",
       "    .dataframe tbody tr th {\n",
       "        vertical-align: top;\n",
       "    }\n",
       "\n",
       "    .dataframe thead th {\n",
       "        text-align: right;\n",
       "    }\n",
       "</style>\n",
       "<table border=\"1\" class=\"dataframe\">\n",
       "  <thead>\n",
       "    <tr style=\"text-align: right;\">\n",
       "      <th></th>\n",
       "      <th>victims_count</th>\n",
       "    </tr>\n",
       "    <tr>\n",
       "      <th>year</th>\n",
       "      <th></th>\n",
       "    </tr>\n",
       "  </thead>\n",
       "  <tbody>\n",
       "    <tr>\n",
       "      <th>2013</th>\n",
       "      <td>300170.0</td>\n",
       "    </tr>\n",
       "    <tr>\n",
       "      <th>2014</th>\n",
       "      <td>284350.0</td>\n",
       "    </tr>\n",
       "    <tr>\n",
       "      <th>2015</th>\n",
       "      <td>431840.0</td>\n",
       "    </tr>\n",
       "    <tr>\n",
       "      <th>2016</th>\n",
       "      <td>298410.0</td>\n",
       "    </tr>\n",
       "    <tr>\n",
       "      <th>2017</th>\n",
       "      <td>393980.0</td>\n",
       "    </tr>\n",
       "    <tr>\n",
       "      <th>2018</th>\n",
       "      <td>734630.0</td>\n",
       "    </tr>\n",
       "    <tr>\n",
       "      <th>2019</th>\n",
       "      <td>459310.0</td>\n",
       "    </tr>\n",
       "  </tbody>\n",
       "</table>\n",
       "</div>"
      ],
      "text/plain": [
       "      victims_count\n",
       "year               \n",
       "2013       300170.0\n",
       "2014       284350.0\n",
       "2015       431840.0\n",
       "2016       298410.0\n",
       "2017       393980.0\n",
       "2018       734630.0\n",
       "2019       459310.0"
      ]
     },
     "execution_count": 4,
     "metadata": {},
     "output_type": "execute_result"
    }
   ],
   "source": [
    "data = {'year': cases_by_crime_df.columns, 'numbers': cases_by_crime_df.iloc[1]}\n",
    "assault_df = pd.DataFrame(data)\n",
    "assault_df = assault_df[1:].reset_index()\n",
    "assault_df = assault_df.set_index(assault_df['year'])\n",
    "assault_df.year = assault_df.year.astype(float)\n",
    "assault_df.numbers = assault_df.numbers.str.replace(\",\", \"\").astype(float)\n",
    "assault_df.drop(assault_df.columns[0], axis=1)\n",
    "assault_df = assault_df.drop(columns=['index', 'year'])\n",
    "assault_df.columns = ['victims_count']\n",
    "assault_df "
   ]
  },
  {
   "cell_type": "code",
   "execution_count": 5,
   "metadata": {},
   "outputs": [
    {
     "name": "stderr",
     "output_type": "stream",
     "text": [
      "/usr/local/anaconda3/lib/python3.7/site-packages/pandas/plotting/_matplotlib/core.py:1235: UserWarning: FixedFormatter should only be used together with FixedLocator\n",
      "  ax.set_xticklabels(xticklabels)\n"
     ]
    },
    {
     "data": {
      "text/plain": [
       "Text(0.5, 1.0, 'Number of Rape/Sexual Assault Victims in the U.S. from 2013-2019')"
      ]
     },
     "execution_count": 5,
     "metadata": {},
     "output_type": "execute_result"
    },
    {
     "data": {
      "image/png": "[encoded data removed]",
      "text/plain": [
       "<Figure size 720x360 with 1 Axes>"
      ]
     },
     "metadata": {
      "needs_background": "light"
     },
     "output_type": "display_data"
    }
   ],
   "source": [
    "assault_df.plot(kind='line', figsize=(10, 5))\n",
    "plt.ylim(0,800000)\n",
    "plt.xlabel('Year', size=16)\n",
    "plt.ylabel('Number of Victims', size=14)\n",
    "plt.title('Number of Rape/Sexual Assault Victims in the U.S. from 2013-2019', size=17, pad=30)"
   ]
  },
  {
   "cell_type": "markdown",
   "metadata": {},
   "source": [
    "Overall, there has been an increase in rape/sexual assault victims since 2013. **There was also a peak in rape/sexual assault victims in 2018.**"
   ]
  },
  {
   "cell_type": "markdown",
   "metadata": {},
   "source": [
    "### How has the percentage of rape/sexual assault victims that reported changed since 2013?\n",
    "1. Create a new data frame from cases_by_crime_df by using a dictionary\n",
    "2. Drop the first row \n",
    "3. Set year as the index\n",
    "4. Convert values in numbers column into numerical values\n",
    "5. Drop extra 'index' and 'year' column\n",
    "6. Rename column to perc_reported\n",
    "7. Create a line plot "
   ]
  },
  {
   "cell_type": "code",
   "execution_count": 6,
   "metadata": {},
   "outputs": [],
   "source": [
    "perc_reported_by_crime_df= pd.read_csv('../data/clean/Annual_Perc_of_Reported_Crimes_13_to_19.csv')"
   ]
  },
  {
   "cell_type": "code",
   "execution_count": 7,
   "metadata": {},
   "outputs": [
    {
     "data": {
      "text/html": [
       "<div>\n",
       "<style scoped>\n",
       "    .dataframe tbody tr th:only-of-type {\n",
       "        vertical-align: middle;\n",
       "    }\n",
       "\n",
       "    .dataframe tbody tr th {\n",
       "        vertical-align: top;\n",
       "    }\n",
       "\n",
       "    .dataframe thead th {\n",
       "        text-align: right;\n",
       "    }\n",
       "</style>\n",
       "<table border=\"1\" class=\"dataframe\">\n",
       "  <thead>\n",
       "    <tr style=\"text-align: right;\">\n",
       "      <th></th>\n",
       "      <th>Type of crime</th>\n",
       "      <th>2013</th>\n",
       "      <th>2014</th>\n",
       "      <th>2015</th>\n",
       "      <th>2016</th>\n",
       "      <th>2017</th>\n",
       "      <th>2018</th>\n",
       "      <th>2019</th>\n",
       "    </tr>\n",
       "  </thead>\n",
       "  <tbody>\n",
       "    <tr>\n",
       "      <th>0</th>\n",
       "      <td>Total Violent crime</td>\n",
       "      <td>45.6</td>\n",
       "      <td>46.0</td>\n",
       "      <td>46.5</td>\n",
       "      <td>43.9</td>\n",
       "      <td>44.9</td>\n",
       "      <td>42.6</td>\n",
       "      <td>40.9</td>\n",
       "    </tr>\n",
       "    <tr>\n",
       "      <th>1</th>\n",
       "      <td>Rape/sexual assault</td>\n",
       "      <td>35.0</td>\n",
       "      <td>33.6</td>\n",
       "      <td>32.5</td>\n",
       "      <td>23.2</td>\n",
       "      <td>40.4</td>\n",
       "      <td>24.9</td>\n",
       "      <td>33.9</td>\n",
       "    </tr>\n",
       "    <tr>\n",
       "      <th>2</th>\n",
       "      <td>Robbery</td>\n",
       "      <td>68.0</td>\n",
       "      <td>60.9</td>\n",
       "      <td>61.9</td>\n",
       "      <td>57.0</td>\n",
       "      <td>49.0</td>\n",
       "      <td>62.6</td>\n",
       "      <td>46.6</td>\n",
       "    </tr>\n",
       "    <tr>\n",
       "      <th>3</th>\n",
       "      <td>Total Assault</td>\n",
       "      <td>43.0</td>\n",
       "      <td>44.6</td>\n",
       "      <td>45.8</td>\n",
       "      <td>43.9</td>\n",
       "      <td>44.7</td>\n",
       "      <td>43.0</td>\n",
       "      <td>40.9</td>\n",
       "    </tr>\n",
       "    <tr>\n",
       "      <th>4</th>\n",
       "      <td>Aggravated assault</td>\n",
       "      <td>64.0</td>\n",
       "      <td>58.4</td>\n",
       "      <td>61.9</td>\n",
       "      <td>59.8</td>\n",
       "      <td>57.2</td>\n",
       "      <td>60.5</td>\n",
       "      <td>52.1</td>\n",
       "    </tr>\n",
       "    <tr>\n",
       "      <th>5</th>\n",
       "      <td>Simple assault</td>\n",
       "      <td>39.0</td>\n",
       "      <td>40.0</td>\n",
       "      <td>41.7</td>\n",
       "      <td>39.3</td>\n",
       "      <td>41.3</td>\n",
       "      <td>38.4</td>\n",
       "      <td>37.9</td>\n",
       "    </tr>\n",
       "    <tr>\n",
       "      <th>6</th>\n",
       "      <td>Violent crime excluding simple assault/d</td>\n",
       "      <td>61.0</td>\n",
       "      <td>55.8</td>\n",
       "      <td>54.9</td>\n",
       "      <td>53.0</td>\n",
       "      <td>51.4</td>\n",
       "      <td>49.9</td>\n",
       "      <td>46.5</td>\n",
       "    </tr>\n",
       "  </tbody>\n",
       "</table>\n",
       "</div>"
      ],
      "text/plain": [
       "                              Type of crime  2013  2014  2015  2016  2017  \\\n",
       "0                       Total Violent crime  45.6  46.0  46.5  43.9  44.9   \n",
       "1                       Rape/sexual assault  35.0  33.6  32.5  23.2  40.4   \n",
       "2                                   Robbery  68.0  60.9  61.9  57.0  49.0   \n",
       "3                             Total Assault  43.0  44.6  45.8  43.9  44.7   \n",
       "4                        Aggravated assault  64.0  58.4  61.9  59.8  57.2   \n",
       "5                            Simple assault  39.0  40.0  41.7  39.3  41.3   \n",
       "6  Violent crime excluding simple assault/d  61.0  55.8  54.9  53.0  51.4   \n",
       "\n",
       "   2018  2019  \n",
       "0  42.6  40.9  \n",
       "1  24.9  33.9  \n",
       "2  62.6  46.6  \n",
       "3  43.0  40.9  \n",
       "4  60.5  52.1  \n",
       "5  38.4  37.9  \n",
       "6  49.9  46.5  "
      ]
     },
     "execution_count": 7,
     "metadata": {},
     "output_type": "execute_result"
    }
   ],
   "source": [
    "perc_reported_by_crime_df"
   ]
  },
  {
   "cell_type": "code",
   "execution_count": 8,
   "metadata": {},
   "outputs": [
    {
     "data": {
      "text/html": [
       "<div>\n",
       "<style scoped>\n",
       "    .dataframe tbody tr th:only-of-type {\n",
       "        vertical-align: middle;\n",
       "    }\n",
       "\n",
       "    .dataframe tbody tr th {\n",
       "        vertical-align: top;\n",
       "    }\n",
       "\n",
       "    .dataframe thead th {\n",
       "        text-align: right;\n",
       "    }\n",
       "</style>\n",
       "<table border=\"1\" class=\"dataframe\">\n",
       "  <thead>\n",
       "    <tr style=\"text-align: right;\">\n",
       "      <th></th>\n",
       "      <th>perc_reported</th>\n",
       "    </tr>\n",
       "    <tr>\n",
       "      <th>year</th>\n",
       "      <th></th>\n",
       "    </tr>\n",
       "  </thead>\n",
       "  <tbody>\n",
       "    <tr>\n",
       "      <th>2013</th>\n",
       "      <td>35.0</td>\n",
       "    </tr>\n",
       "    <tr>\n",
       "      <th>2014</th>\n",
       "      <td>33.6</td>\n",
       "    </tr>\n",
       "    <tr>\n",
       "      <th>2015</th>\n",
       "      <td>32.5</td>\n",
       "    </tr>\n",
       "    <tr>\n",
       "      <th>2016</th>\n",
       "      <td>23.2</td>\n",
       "    </tr>\n",
       "    <tr>\n",
       "      <th>2017</th>\n",
       "      <td>40.4</td>\n",
       "    </tr>\n",
       "    <tr>\n",
       "      <th>2018</th>\n",
       "      <td>24.9</td>\n",
       "    </tr>\n",
       "    <tr>\n",
       "      <th>2019</th>\n",
       "      <td>33.9</td>\n",
       "    </tr>\n",
       "  </tbody>\n",
       "</table>\n",
       "</div>"
      ],
      "text/plain": [
       "      perc_reported\n",
       "year               \n",
       "2013           35.0\n",
       "2014           33.6\n",
       "2015           32.5\n",
       "2016           23.2\n",
       "2017           40.4\n",
       "2018           24.9\n",
       "2019           33.9"
      ]
     },
     "execution_count": 8,
     "metadata": {},
     "output_type": "execute_result"
    }
   ],
   "source": [
    "data2 = {'year': perc_reported_by_crime_df.columns, 'numbers': perc_reported_by_crime_df.iloc[1]}\n",
    "reported_df = pd.DataFrame(data2)\n",
    "reported_df = reported_df[1:].reset_index()\n",
    "reported_df = reported_df.set_index(reported_df['year'])\n",
    "reported_df.year = reported_df.year.astype(float)\n",
    "reported_df.numbers = reported_df.numbers.astype(float)\n",
    "reported_df.drop(reported_df.columns[0], axis=1)\n",
    "reported_df = reported_df.drop(columns=['index', 'year'])\n",
    "reported_df.columns = ['perc_reported']\n",
    "reported_df"
   ]
  },
  {
   "cell_type": "code",
   "execution_count": 9,
   "metadata": {},
   "outputs": [
    {
     "name": "stderr",
     "output_type": "stream",
     "text": [
      "/usr/local/anaconda3/lib/python3.7/site-packages/pandas/plotting/_matplotlib/core.py:1235: UserWarning: FixedFormatter should only be used together with FixedLocator\n",
      "  ax.set_xticklabels(xticklabels)\n"
     ]
    },
    {
     "data": {
      "text/plain": [
       "Text(0.5, 1.0, 'Percentage of Rape/Sexual Assault Cases Reported to Police in the U.S. from 2013-2019')"
      ]
     },
     "execution_count": 9,
     "metadata": {},
     "output_type": "execute_result"
    },
    {
     "data": {
      "image/png": "[encoded data removed]",
      "text/plain": [
       "<Figure size 720x360 with 1 Axes>"
      ]
     },
     "metadata": {
      "needs_background": "light"
     },
     "output_type": "display_data"
    }
   ],
   "source": [
    "reported_df.plot(kind='line', figsize=(10, 5))\n",
    "plt.ylim(0,100)\n",
    "plt.xlabel('Year', size=16)\n",
    "plt.ylabel('% of Cases Reported', size=14)\n",
    "plt.title('Percentage of Rape/Sexual Assault Cases Reported to Police in the U.S. from 2013-2019', size=17, pad=30)"
   ]
  },
  {
   "cell_type": "markdown",
   "metadata": {},
   "source": [
    "**The percent of reported sexual assault cases have stayed at relatively low levels since 2013.** There was a slight peak in 2017."
   ]
  },
  {
   "cell_type": "markdown",
   "metadata": {},
   "source": [
    "### How has the percentage of rape/sexual assault victims that did not report change since 2013?\n",
    "1. Create a new unreported column by subtracting 100 by the percentage of reported \n",
    "2. Drop the reported column and create a new dataframe"
   ]
  },
  {
   "cell_type": "code",
   "execution_count": 10,
   "metadata": {},
   "outputs": [
    {
     "data": {
      "text/html": [
       "<div>\n",
       "<style scoped>\n",
       "    .dataframe tbody tr th:only-of-type {\n",
       "        vertical-align: middle;\n",
       "    }\n",
       "\n",
       "    .dataframe tbody tr th {\n",
       "        vertical-align: top;\n",
       "    }\n",
       "\n",
       "    .dataframe thead th {\n",
       "        text-align: right;\n",
       "    }\n",
       "</style>\n",
       "<table border=\"1\" class=\"dataframe\">\n",
       "  <thead>\n",
       "    <tr style=\"text-align: right;\">\n",
       "      <th></th>\n",
       "      <th>perc_unreported</th>\n",
       "    </tr>\n",
       "    <tr>\n",
       "      <th>year</th>\n",
       "      <th></th>\n",
       "    </tr>\n",
       "  </thead>\n",
       "  <tbody>\n",
       "    <tr>\n",
       "      <th>2013</th>\n",
       "      <td>65.0</td>\n",
       "    </tr>\n",
       "    <tr>\n",
       "      <th>2014</th>\n",
       "      <td>66.4</td>\n",
       "    </tr>\n",
       "    <tr>\n",
       "      <th>2015</th>\n",
       "      <td>67.5</td>\n",
       "    </tr>\n",
       "    <tr>\n",
       "      <th>2016</th>\n",
       "      <td>76.8</td>\n",
       "    </tr>\n",
       "    <tr>\n",
       "      <th>2017</th>\n",
       "      <td>59.6</td>\n",
       "    </tr>\n",
       "    <tr>\n",
       "      <th>2018</th>\n",
       "      <td>75.1</td>\n",
       "    </tr>\n",
       "    <tr>\n",
       "      <th>2019</th>\n",
       "      <td>66.1</td>\n",
       "    </tr>\n",
       "  </tbody>\n",
       "</table>\n",
       "</div>"
      ],
      "text/plain": [
       "      perc_unreported\n",
       "year                 \n",
       "2013             65.0\n",
       "2014             66.4\n",
       "2015             67.5\n",
       "2016             76.8\n",
       "2017             59.6\n",
       "2018             75.1\n",
       "2019             66.1"
      ]
     },
     "execution_count": 10,
     "metadata": {},
     "output_type": "execute_result"
    }
   ],
   "source": [
    "reported_df['perc_unreported'] = 100 - (reported_df['perc_reported'])\n",
    "unreported_df= reported_df.drop(columns=['perc_reported'])\n",
    "unreported_df"
   ]
  },
  {
   "cell_type": "code",
   "execution_count": 11,
   "metadata": {},
   "outputs": [
    {
     "data": {
      "text/plain": [
       "Text(0.5, 1.0, 'Percentage of Rape/Sexual Assault Cases NOT Reported to Police in the U.S. from 2013-2019')"
      ]
     },
     "execution_count": 11,
     "metadata": {},
     "output_type": "execute_result"
    },
    {
     "data": {
      "image/png": "[encoded data removed]",
      "text/plain": [
       "<Figure size 864x360 with 1 Axes>"
      ]
     },
     "metadata": {
      "needs_background": "light"
     },
     "output_type": "display_data"
    }
   ],
   "source": [
    "unreported_df.plot(kind='bar', figsize=(12, 5))\n",
    "plt.ylim(0,100)\n",
    "plt.xlabel('Year', size=16)\n",
    "plt.ylabel('% of Cases Not Reported', size=14)\n",
    "plt.title('Percentage of Rape/Sexual Assault Cases NOT Reported to Police in the U.S. from 2013-2019', size=17, pad=30)"
   ]
  },
  {
   "cell_type": "markdown",
   "metadata": {},
   "source": [
    "There has consistently been high percentages of rape/sexual assault victims who did not report their case to the police since 2013. **There are peaks in 2016 and 2018, where about 75% of victims of rape/sexual assault did not report their case.**"
   ]
  }
 ],
 "metadata": {
  "kernelspec": {
   "display_name": "Python 3",
   "language": "python",
   "name": "python3"
  },
  "language_info": {
   "codemirror_mode": {
    "name": "ipython",
    "version": 3
   },
   "file_extension": ".py",
   "mimetype": "text/x-python",
   "name": "python",
   "nbconvert_exporter": "python",
   "pygments_lexer": "ipython3",
   "version": "3.7.3"
  }
 },
 "nbformat": 4,
 "nbformat_minor": 2
}
